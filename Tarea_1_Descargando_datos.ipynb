{
  "cells": [
    {
      "cell_type": "markdown",
      "metadata": {
        "id": "HyBdtvc7gQEx"
      },
      "source": [
        "<center>\n",
        "<p>\n",
        "\n",
        "# Curso *Ingeniería de Características*\n",
        "\n",
        "### Tarea 1\n",
        "\n",
        "<p> Estephania Pivac Alcaraz </p>\n",
        "<p>\n",
        "\n",
        "<a target=\"_blank\" href=\"https://colab.research.google.com/github/mcd-unison/ing-caract/blob/main/ejemplos/integracion/python/descarga_datos.ipynb\"><img src=\"https://i.ibb.co/2P3SLwK/colab.png\"  style=\"padding-bottom:5px;\" />Ejecuta en Google Colab</a>\n",
        "\n",
        "</center>"
      ]
    },
    {
      "cell_type": "markdown",
      "metadata": {
        "id": "b6Aef7efgQE1"
      },
      "source": [
        "# 1. Descargando datos\n",
        "Vamos a ver primero como ir descargando datos y luego como lidiar con diferentes formatos. Es muy importante que, si los datos los vamos a cargar por única vez, descargar el conjunto de datos, tal como se encuentran, esto es `raw data`.\n",
        "\n",
        "Vamos primero cargando las bibliotecas necesarias:"
      ]
    },
    {
      "cell_type": "code",
      "execution_count": 1,
      "metadata": {
        "id": "8aqXoZh5gQE1"
      },
      "outputs": [],
      "source": [
        "\n",
        "import os  # Para manejo de archivos y directorios\n",
        "import urllib.request # Una forma estandard de descargar datos\n",
        "# import requests # Otra forma no de las librerías de uso comun\n",
        "\n",
        "import datetime # Fecha de descarga\n",
        "import pandas as pd # Solo para ver el archivo descargado\n",
        "import zipfile # Descompresión de archivos"
      ]
    },
    {
      "cell_type": "markdown",
      "metadata": {
        "id": "wTi1FF2hgQE2"
      },
      "source": [
        "Es importante saber en donde nos encontramos y crear los subdirectorios necesarios para guardar los datos de manera ordenada. Tambien es importante evitar cargar datos que ya han sido descargados anteriormente."
      ]
    },
    {
      "cell_type": "code",
      "execution_count": 2,
      "metadata": {
        "id": "uxI_od2XgQE3",
        "outputId": "7e629b7b-1ccc-4ba6-b078-f119e54b2e4a",
        "colab": {
          "base_uri": "https://localhost:8080/"
        }
      },
      "outputs": [
        {
          "output_type": "stream",
          "name": "stdout",
          "text": [
            "/content\n"
          ]
        }
      ],
      "source": [
        "# pwd\n",
        "print(os.getcwd())\n",
        "\n",
        "#  Estos son los datos que vamos a descargar y donde vamos a guardarlos\n",
        "mastografia_2019_url = \"http://www.cnegsr.salud.gob.mx/opencms/opencms/permalink/cf5973b3-131c-11eb-b559-000c2902483c.zip\"\n",
        "mastografia_2019_archivo = \"mastografia_2019.zip\"\n",
        "mastografia_2018_url = \"http://cnegsr.salud.gob.mx/contenidos/descargas/DatosAbiertos/Mastografxas_2018.zip\"\n",
        "mastografia_2018_archivo = \"mastografia_2018.zip\"\n",
        "mastografia_2017_url = \"http://www.cnegsr.salud.gob.mx/opencms/opencms/permalink/e669597d-50b4-11e9-8f7a-000c2902483c.zip\"\n",
        "mastografia_2017_archivo = \"mastografia_2017.zip\"\n",
        "defunciones_2020_url = \"https://www.inegi.org.mx/contenidos/programas/mortalidad/datosabiertos/defunciones/2020/conjunto_de_datos_defunciones_registradas_2020_csv.zip\"\n",
        "defunciones_2020_archivo = \"defunciones_2020.zip\"\n",
        "      # Decidí no incluir esta base de datos\n",
        "#deteccion_cancer_mamario_url = \"http://datos.imss.gob.mx/sites/default/files/istabla44.csv\"\n",
        "tasa_mortalidad_cancer_mamario_url = \"http://www.dged.salud.gob.mx/opencms/opencms/contenidos/dedss/descargas/protocolo/Tasa_de_mortalidad_por_cxncer_de_mama.csv\"\n",
        "tasa_mortalidad_cancer_mamario_archivo = \"tasa_mortalidad_cancer_mamario.csv\"\n",
        "subdir = \"./data/\" "
      ]
    },
    {
      "cell_type": "code",
      "execution_count": 3,
      "metadata": {
        "id": "n82ZoJfSgQE3"
      },
      "outputs": [],
      "source": [
        "if not os.path.exists(mastografia_2019_archivo):\n",
        "    if not os.path.exists(subdir):\n",
        "        os.makedirs(subdir)\n",
        "    urllib.request.urlretrieve(mastografia_2019_url, subdir + mastografia_2019_archivo)  \n",
        "    with zipfile.ZipFile(subdir + mastografia_2019_archivo, \"r\") as zip_ref:\n",
        "        zip_ref.extractall(subdir)\n",
        "\n",
        "#       No funcionó el URL de mastografía 2018 \n",
        "# if not os.path.exists(mastografia_2018_archivo):\n",
        "#     urllib.request.urlretrieve(mastografia_2018_url, subdir + mastografia_2018_archivo) \n",
        "#     with zipfile.ZipFile(subdir + mastografia_2018_archivo, \"r\") as zip_ref:\n",
        "#        zip_ref.extractall(subdir)\n",
        "\n",
        "if not os.path.exists(mastografia_2017_archivo):\n",
        "    urllib.request.urlretrieve(mastografia_2017_url, subdir + mastografia_2017_archivo) \n",
        "    with zipfile.ZipFile(subdir + mastografia_2017_archivo, \"r\") as zip_ref:\n",
        "        zip_ref.extractall(subdir)\n",
        "\n",
        "if not os.path.exists(defunciones_2020_archivo):\n",
        "    urllib.request.urlretrieve(defunciones_2020_url, subdir + defunciones_2020_archivo)\n",
        "    with zipfile.ZipFile(subdir + defunciones_2020_archivo, \"r\") as zip_ref:\n",
        "        zip_ref.extractall(subdir) \n",
        "\n",
        "if not os.path.exists(tasa_mortalidad_cancer_mamario_archivo):\n",
        "    urllib.request.urlretrieve(tasa_mortalidad_cancer_mamario_url, subdir + tasa_mortalidad_cancer_mamario_archivo)\n"
      ]
    },
    {
      "cell_type": "code",
      "source": [
        "with open(subdir + \"info.txt\", 'w') as f:\n",
        "  f.write(\"Archivos sobre cancer de mama \\n\")\n",
        "  info = \"\"\"\n",
        "  Mastografía: Información sobre el tamizaje de Cáncer de Mama en Unidades del la Secretaría de Salud en edades de 25 a 69 \n",
        "  años durante el 2017-2019.\n",
        "\n",
        "  Defunciones: La estadística de defunciones registradas tiene como objetivo generar y difundir la información sobre el fenómeno\n",
        "  de la mortalidad en el país, que permite conocer y comparar el volumen, tendencia y características de la mortalidad en los \n",
        "  diferentes ámbitos geográficos del país, conformando un insumo para el análisis y evaluación de acciones dirigidas a la \n",
        "  elaboración de programas de salud pública.\n",
        "\n",
        "  Tasa de mortalidad: Número de defunciones por cáncer de mama en mujeres de 25 años y más por cada cien mujeres del mismo grupo de edad.\n",
        "\n",
        "  Los datos se obtuvieron de diferentes fuentes de datos (abiertos del gobierno de México y del INEGI) con fecha de 19 de agosto de 2022.\n",
        "\n",
        "  \"\"\" \n",
        "  f.write(info + '\\n')\n",
        "  f.write(\"Descargado el \" + datetime.datetime.now().strftime(\"%Y-%m-%d %H:%M:%S\") + \"\\n\")\n",
        "  f.write(\"Desde: \" + mastografia_2019_url + \"\\n\")\n",
        "  f.write(\"Nombre: \" + mastografia_2019_archivo + \"\\n\")\n",
        "  #f.write(\"Desde: \" + mastografia_2018_url +\"\\n\")\n",
        "  #f.write(\"Nombre: \" + mastografia_2018_archivo + \"\\n\")\n",
        "  f.write(\"Desde: \" + mastografia_2017_url + \"\\n\" )\n",
        "  f.write(\"Nombre: \" + mastografia_2017_archivo + \"\\n\")\n",
        "  f.write(\"Agregados defunciones descargados desde: \" + defunciones_2020_url + \"\\n\")\n",
        "  f.write(\"Nombre: \" + defunciones_2020_archivo + \"\\n\")\n",
        "  f.write(\"Agregados tasa de mortalidad descargados desde: \" + tasa_mortalidad_cancer_mamario_url + \"\\n\")\n",
        "  f.write(\"Nombre: \" + tasa_mortalidad_cancer_mamario_archivo + \"\\n\")"
      ],
      "metadata": {
        "id": "2Y8ULkPAr3pq"
      },
      "execution_count": 4,
      "outputs": []
    },
    {
      "cell_type": "markdown",
      "metadata": {
        "id": "PBr04P-ggQE4"
      },
      "source": [
        "# 2. Revisa la estructura de los datos que se descargaron sobre personas desaparecidas a nivel nacional. \n",
        "\n",
        "\n",
        "###### *Agrega en modo texto comentarios sobre los json de personas desaparecidas y como generarías  una o varias tablas. O si tienes dudas, agrega alguna pregunta para usarla de guía en la discusión en clase.*\n",
        "\n",
        " \n",
        " \\\n",
        "\n",
        "El archivo json sobre personas desaparecidas está compuesto por 18 instancias y 6 atributos: \\\n",
        " \\\n",
        "**totales**: contiene datos numéricos\\\n",
        "**espacial**: los datos son de tipo diccionario \\\n",
        "**anual**: los datos son de tipo diccionario \\\n",
        "**mensual_ultimo_anio**: los datos son de tipo diccionario \\\n",
        "**por_edad**: los datos son de tipo diccionario \\\n",
        "**por_nacionalidad**: los datos son de tipo diccionario \\\n",
        "\n",
        "\\\n",
        "\n",
        "\n",
        "Los datos parecen estar divididos en dos tipos de instancias. \n",
        "\n",
        "Las primeras instancias son del tipo \"total\" y \"porcentaje\", las cuales toman valores numéricos en el atributo total, y no toman valores en el resto de los atributos.\n",
        "\n",
        "Las últimas instancias son \"hombre\", \"mujer\" e \"indeterminado\", y estas no tienen entradas en totales (no toman valores numéricos), pero sí toman valores en el resto de los atributos, donde dichas entradas son diccionarios (listas por diferentes características de los desaparecidos de acuerdo al sexo).\n",
        "\n",
        "\n",
        "Para ver los primeros elementos del archivo utilizaría:\n",
        "\n",
        "```\n",
        "df_repos = pd.read_json(subdir + desaparecidos_corte_nacional_archivo)\n",
        "\n",
        "df_repos.head()\n",
        "```\n",
        "\n",
        "\n",
        "Para obtener información sobre el archivo utilizaría:\n",
        "\n",
        "```\n",
        "df_repos.info()\n",
        "```\n",
        "\n",
        "\n"
      ]
    }
  ],
  "metadata": {
    "kernelspec": {
      "display_name": "Python 3.9.6 ('ing-caract')",
      "language": "python",
      "name": "python3"
    },
    "language_info": {
      "codemirror_mode": {
        "name": "ipython",
        "version": 3
      },
      "file_extension": ".py",
      "mimetype": "text/x-python",
      "name": "python",
      "nbconvert_exporter": "python",
      "pygments_lexer": "ipython3",
      "version": "3.9.6"
    },
    "orig_nbformat": 4,
    "vscode": {
      "interpreter": {
        "hash": "df66168c05601359b7a18d86a592119f5db8fb3a1787607b00a26812b2b93761"
      }
    },
    "colab": {
      "provenance": [],
      "name": "Tarea 1 - Descargando datos.ipynb",
      "collapsed_sections": []
    }
  },
  "nbformat": 4,
  "nbformat_minor": 0
}